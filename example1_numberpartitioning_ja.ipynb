{
  "nbformat": 4,
  "nbformat_minor": 0,
  "metadata": {
    "colab": {
      "name": "example1_numberpartitioning_ja.ipynb",
      "version": "0.3.2",
      "provenance": []
    },
    "kernelspec": {
      "name": "python3",
      "display_name": "Python 3"
    }
  },
  "cells": [
    {
      "metadata": {
        "id": "WBR-Vd1FcBF1",
        "colab_type": "text"
      },
      "cell_type": "markdown",
      "source": [
        "**自然数分割問題を計算する**\n",
        "\n",
        "自然数分割問題とは、ある自然数の集合を２つのグループA, Bに分割し、それぞれのグループ内の自然数の和が同じになるような分割方法を探す問題です。\n",
        "これをwildqatを使用して解いてみます。\n",
        "\n",
        "\n",
        "wildqatがインストールされていない場合は、環境に併せて以下のようにインストールしてください。\n",
        "\n"
      ]
    },
    {
      "metadata": {
        "id": "pMkrUpQgb5yC",
        "colab_type": "code",
        "colab": {}
      },
      "cell_type": "code",
      "source": [
        "!pip3 install wildqat"
      ],
      "execution_count": 0,
      "outputs": []
    },
    {
      "metadata": {
        "id": "VWDd6GlHpnQb",
        "colab_type": "text"
      },
      "cell_type": "markdown",
      "source": [
        "必要なライブラリをimportし、wildqatオブジェクトをインスタンス化します。"
      ]
    },
    {
      "metadata": {
        "id": "Giyn1-GNcIZ0",
        "colab_type": "code",
        "colab": {}
      },
      "cell_type": "code",
      "source": [
        "import wildqat as wq\n",
        "import numpy as np\n",
        "a = wq.opt()"
      ],
      "execution_count": 0,
      "outputs": []
    },
    {
      "metadata": {
        "id": "V1qLi57eeO8l",
        "colab_type": "text"
      },
      "cell_type": "markdown",
      "source": [
        "\n",
        "解きたい問題のQUBOマトリクスを作成します。\n",
        "N個の自然数の$i$番目の自然数を$n_i$とし、その自然数がどちらのグループに属するかを$q_i$で表します。\n",
        "$n_i$がグループAに属する時には\n",
        "$q_i=1$、グループBに属する時には$q_i=0$とします。\n",
        "ここで、２つのグループ内のそれぞれの和が等しい時に最小となるようなコスト関数$E$を考えます。\n",
        "\n",
        "この場合、\n\n",
        "　$E=\\{\\sum_{i=1}^{N}n_i*(2q_i-1)\\}^2$ \n",
        "\n",
        "とすれば、自然数$n_i$がグループＡに属するとき$2q_i-1=1$、グループBに属するとき$2q_i-1=-1$\n",
        "になりますので、グループＡとグループＢに属する自然数の和が等しいときに\n",
        "$E=0$になり、異なると$E>0$になります。\n",
        "\n",
        "展開すると、\n\n",
        "　$E=(\\sum_{i=1}^{N}2n_iq_i)^2 -  2(\\sum_{i=1}^{N}2n_iq_i)(\\sum_{j=1}^{N}n_j) + (\\sum_{i=1}^{N}n_i)^2$ \n",
        "\n",
        "コスト関数Eは最小化すれば良いので、最後の定数項は要らなくなります。またコスト関数は大きさのみ関係あるので、全体を４で割って\n\n",
        "　$E=(\\sum_{i=1}^{N}n_iq_i)^2 - \\sum_{i=1}^{N}n_iq_i\\sum_{j=1}^{N}n_j$ \n\n",
        "また、$q_i=1$または$q_i=0$のとき、$q_i^2=q_i$です。また、$\\sum_{j=1}^N{n_j}$ はnの総和で定数ですので、\n",
        "$n_{sum}$とします。さらに展開して整理すると</br>\n",
        "\n",
        "　<img src=\"https://render.githubusercontent.com/render/math?math=E%3D%5Csum_%7Bi%3D1%7D%5E%7BN%7D(n_i%5E2%20-%20n_%7Bsum%7Dn_i)q_i%20%2B2%20%5Csum_%7Bi%20%3C%20j%7Dn_in_jq_iq_j&mode=display\">\n",
        " \n",
        "これを行列表記すると下記のようになります。\n",
        "\n",
        "　<img src=\"https://render.githubusercontent.com/render/math?math=qubo%20%3D%20%5Cleft%5B%5Cbegin%7Barray%7D%7Brrrrr%7Dn_1%5E2%20-%20n_%7Bsum%7Dn_1%20%26%202n_1n_2%20%26%202n_1n_3%20%26%202n_1n_4%20%26%20...%5C%5C%200%20%26%20n_2%5E2%20-%20n_%7Bsum%7Dn_2%20%26%202n_2n_3%26%202n_2n_4%20%26...%5C%5C%200%20%26%200%20%26%20n_3%5E2%20-%20n_%7Bsum%7Dn_3%20%26%202n_3n_4%20%26%20...%5C%5C%200%20%26%200%20%26%200%20%26%20n_4%5E2%20-%20n_%7Bsum%7Dn_4%20%26%20...%5C%5C%20...%20%26%20...%20%26%20...%20%26%20...%20%26...%20%5Cend%7Barray%7D%20%5Cright%5D&mode=display\">\n",
        "\n",
        "\n",
        "これをpythonプログラムで書き、シミュレータを実行して結果を得ます。"
      ]
    },
    {
      "metadata": {
        "id": "1wqDGvAheHnd",
        "colab_type": "code",
        "colab": {}
      },
      "cell_type": "code",
      "source": [
        "numbers = np.array([3,2,6,9,2,5,7,3,3,6,7,3,5,3,2,2,2,6,8,4,6,3,3,6,4,3,3,2,2,5,8,9])\n",
        "a.qubo = np.zeros((numbers.size,numbers.size))\n",
        "for i in range(numbers.size):\n",
        "  for j in range(numbers.size):\n",
        "    if i == j:\n",
        "      a.qubo[i][i]=numbers[i]**2-numbers.sum()*numbers[i]\n",
        "    elif i<j:\n",
        "      a.qubo[i][j]=2*numbers[i] * numbers[j]\n",
        "answer = a.sa()"
      ],
      "execution_count": 0,
      "outputs": []
    },
    {
      "metadata": {
        "id": "MJuEqL6VRptU",
        "colab_type": "text"
      },
      "cell_type": "markdown",
      "source": [
        "得られた結果を表示してみます。</br>\n",
        "自然数が２つのグループに分けられ、和が等しくなっています。"
      ]
    },
    {
      "metadata": {
        "id": "laK0z-S3Rnkm",
        "colab_type": "code",
        "colab": {}
      },
      "cell_type": "code",
      "source": [
        "group1_string = \"\"\n",
        "group2_string = \"\"\n",
        "group1_sum = 0\n",
        "group2_sum = 0\n",
        "for i in range(numbers.size):\n",
        "  if answer[i] == 0:\n",
        "    group1_string+= '+' + str(numbers[i])\n",
        "    group1_sum+=numbers[i]\n",
        "  else:\n",
        "    group2_string+= '+' + str(numbers[i])\n",
        "    group2_sum+=numbers[i]\n",
        "\n",
        "print(group1_string[1:],\"=\",group1_sum)\n",
        "print(group2_string[1:],\"=\",group1_sum)"
      ],
      "execution_count": 0,
      "outputs": []
    }
  ]
}
