{
  "nbformat": 4,
  "nbformat_minor": 0,
  "metadata": {
    "colab": {
      "name": "test.ipynb",
      "version": "0.3.2",
      "provenance": [],
      "collapsed_sections": [],
      "include_colab_link": true
    },
    "kernelspec": {
      "name": "python3",
      "display_name": "Python 3"
    }
  },
  "cells": [
    {
      "cell_type": "markdown",
      "metadata": {
        "id": "view-in-github",
        "colab_type": "text"
      },
      "source": [
        "[View in Colaboratory](https://colab.research.google.com/github/Morning777/test/blob/master/test.ipynb)"
      ]
    },
    {
      "metadata": {
        "id": "G3t0MPWrW5et",
        "colab_type": "text"
      },
      "cell_type": "markdown",
      "source": [
        "PythonでHelloWorldを書いてみよう！というチュートリアルを書くテストです\n"
        https://user-images.githubusercontent.com/5043340/45648570-e40aa900-bb03-11e8-8cf8-54cc8863afc7.png
      ]
    },
    {
      "metadata": {
        "id": "fmpyBvUPWgWt",
        "colab_type": "code",
        "colab": {
          "base_uri": "https://localhost:8080/",
          "height": 34
        },
        "outputId": "6398c2a9-e8a9-4a43-a72e-4c00912206d1"
      },
      "cell_type": "code",
      "source": [
        "print(\"hello world\")"
      ],
      "execution_count": 1,
      "outputs": [
        {
          "output_type": "stream",
          "text": [
            "hello world\n"
          ],
          "name": "stdout"
        }
      ]
    }
  ]
}
